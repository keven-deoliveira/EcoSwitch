{
  "nbformat": 4,
  "nbformat_minor": 0,
  "metadata": {
    "colab": {
      "name": "DesiredTemp_AccessTest.ipynb",
      "provenance": []
    },
    "kernelspec": {
      "name": "python3",
      "display_name": "Python 3"
    },
    "language_info": {
      "name": "python"
    }
  },
  "cells": [
    {
      "cell_type": "code",
      "metadata": {
        "colab": {
          "base_uri": "https://localhost:8080/"
        },
        "id": "K9JGf8r_QFZp",
        "outputId": "0b3a9f17-04f4-4e93-d4c4-626218385ae9"
      },
      "source": [
        "#install\n",
        "%pip install mysql-connector-python"
      ],
      "execution_count": 2,
      "outputs": [
        {
          "output_type": "stream",
          "name": "stdout",
          "text": [
            "Collecting mysql-connector-python\n",
            "  Downloading mysql_connector_python-8.0.27-1commercial-cp37-cp37m-manylinux1_x86_64.whl (37.5 MB)\n",
            "\u001b[K     |████████████████████████████████| 37.5 MB 55 kB/s \n",
            "\u001b[?25hRequirement already satisfied: protobuf>=3.0.0 in /usr/local/lib/python3.7/dist-packages (from mysql-connector-python) (3.17.3)\n",
            "Requirement already satisfied: six>=1.9 in /usr/local/lib/python3.7/dist-packages (from protobuf>=3.0.0->mysql-connector-python) (1.15.0)\n",
            "Installing collected packages: mysql-connector-python\n",
            "Successfully installed mysql-connector-python-8.0.27\n"
          ]
        }
      ]
    },
    {
      "cell_type": "code",
      "metadata": {
        "id": "SF1FKgpfQOO9"
      },
      "source": [
        "#import\n",
        "import mysql.connector as mysqlConnector"
      ],
      "execution_count": 3,
      "outputs": []
    },
    {
      "cell_type": "code",
      "metadata": {
        "colab": {
          "base_uri": "https://localhost:8080/"
        },
        "id": "yDyGI8pSQZVa",
        "outputId": "f3747d2f-ac8d-4206-a24d-6cc1792970a2"
      },
      "source": [
        "#Call to server\n",
        "conn = mysqlConnector.connect(host='155.41.16.212',user='admin',passwd='password',database = 'ecoswitch')\n",
        "if conn:\n",
        "    print(\"Connection Successful :)\")\n",
        "    cur = conn.cursor()\n",
        "    #Tests if running MySQL procedure will update the table in real time\n",
        "    cur.execute(\"CALL DesiredRangeUpdate(34,12345)\")\n",
        "    conn.commit()\n",
        "    conn.close()\n",
        "else:\n",
        "    print(\"Connection Failed :(\")\n"
      ],
      "execution_count": 19,
      "outputs": [
        {
          "output_type": "stream",
          "name": "stdout",
          "text": [
            "Connection Successful :)\n"
          ]
        }
      ]
    }
  ]
}