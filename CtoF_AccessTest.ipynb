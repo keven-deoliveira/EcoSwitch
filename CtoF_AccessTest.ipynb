{
  "nbformat": 4,
  "nbformat_minor": 0,
  "metadata": {
    "colab": {
      "name": "CtoF_AccessTest.ipynb",
      "provenance": []
    },
    "kernelspec": {
      "name": "python3",
      "display_name": "Python 3"
    },
    "language_info": {
      "name": "python"
    }
  },
  "cells": [
    {
      "cell_type": "code",
      "metadata": {
        "colab": {
          "base_uri": "https://localhost:8080/"
        },
        "id": "K9JGf8r_QFZp",
        "outputId": "513d81e3-a4b2-4aad-e169-06debf18997b"
      },
      "source": [
        "#install\n",
        "%pip install mysql-connector-python"
      ],
      "execution_count": 1,
      "outputs": [
        {
          "output_type": "stream",
          "name": "stdout",
          "text": [
            "Collecting mysql-connector-python\n",
            "  Downloading mysql_connector_python-8.0.27-1commercial-cp37-cp37m-manylinux1_x86_64.whl (37.5 MB)\n",
            "\u001b[K     |████████████████████████████████| 37.5 MB 56 kB/s \n",
            "\u001b[?25hRequirement already satisfied: protobuf>=3.0.0 in /usr/local/lib/python3.7/dist-packages (from mysql-connector-python) (3.17.3)\n",
            "Requirement already satisfied: six>=1.9 in /usr/local/lib/python3.7/dist-packages (from protobuf>=3.0.0->mysql-connector-python) (1.15.0)\n",
            "Installing collected packages: mysql-connector-python\n",
            "Successfully installed mysql-connector-python-8.0.27\n"
          ]
        }
      ]
    },
    {
      "cell_type": "code",
      "metadata": {
        "id": "SF1FKgpfQOO9"
      },
      "source": [
        "#import\n",
        "import mysql.connector as mysqlConnector"
      ],
      "execution_count": 2,
      "outputs": []
    },
    {
      "cell_type": "code",
      "metadata": {
        "colab": {
          "base_uri": "https://localhost:8080/"
        },
        "id": "yDyGI8pSQZVa",
        "outputId": "1c584eeb-24ff-4438-a503-f1171761cf80"
      },
      "source": [
        "#Call to server\n",
        "conn = mysqlConnector.connect(host='168.122.210.144',user='admin',passwd='password',database = 'ecoswitch')\n",
        "if conn:\n",
        "    print(\"Connection Successful :)\")\n",
        "    cur = conn.cursor()\n",
        "    cur.execute(\"SELECT ecoswitch.CtoF(25)\")\n",
        "    for row in cur:\n",
        "      print(row)\n",
        "    conn.close()\n",
        "else:\n",
        "    print(\"Connection Failed :(\")\n"
      ],
      "execution_count": 17,
      "outputs": [
        {
          "output_type": "stream",
          "name": "stdout",
          "text": [
            "Connection Successful :)\n",
            "(77,)\n"
          ]
        }
      ]
    }
  ]
}